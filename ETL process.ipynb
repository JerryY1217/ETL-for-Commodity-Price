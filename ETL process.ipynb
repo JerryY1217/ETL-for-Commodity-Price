{
 "cells": [
  {
   "cell_type": "markdown",
   "id": "714031fc",
   "metadata": {},
   "source": [
    "<h3>讀取套件</h3>"
   ]
  },
  {
   "cell_type": "code",
   "execution_count": 1,
   "id": "837f9d45",
   "metadata": {},
   "outputs": [],
   "source": [
    "import pandas\n",
    "import os"
   ]
  },
  {
   "cell_type": "markdown",
   "id": "6d7896ae",
   "metadata": {},
   "source": [
    "<h3>建立資料路徑</h3>"
   ]
  },
  {
   "cell_type": "code",
   "execution_count": 2,
   "id": "3c4f42af",
   "metadata": {},
   "outputs": [],
   "source": [
    "data_path = 'C:\\\\Users\\\\Jerry\\\\Desktop\\\\Thesis\\\\data\\\\Raw'"
   ]
  },
  {
   "cell_type": "markdown",
   "id": "a7aae38e",
   "metadata": {},
   "source": [
    "<h3>建立分群變數</h3>"
   ]
  },
  {
   "cell_type": "code",
   "execution_count": 4,
   "id": "6b06de64",
   "metadata": {},
   "outputs": [],
   "source": [
    "region = {\n",
    "    'A': ['台北一', '台北二', '板橋區', '三重區'],\n",
    "    #'B': ['桃園', '台中','豐原', '高雄市','鳳山', '屏東'],\n",
    "    #'C': ['台北一', '台北二', '板橋', '三重','桃園', '台中','豐原', '高雄市','鳳山', '屏東']\n",
    "}\n",
    "\n",
    "market_categoty = '蔬菜產品日交易行情'\n",
    "col_names=['日期', '市場', '產品', '上價', '中價', '下價', '均價','增減%', '交易量']"
   ]
  },
  {
   "cell_type": "markdown",
   "id": "8e16dee6",
   "metadata": {},
   "source": [
    "<h3>萃取資料</h3>"
   ]
  },
  {
   "cell_type": "code",
   "execution_count": 5,
   "id": "8f116c85",
   "metadata": {},
   "outputs": [],
   "source": [
    "def get_data(region_group, region_id):\n",
    "    global data_path, col_names\n",
    "    \n",
    "    excel_file = '%s/%s/%s%s.xls' % (data_path, region_group, region_id, market_categoty)\n",
    "    if not os.path.exists(excel_file):\n",
    "        print(excel_file)\n",
    "        return None\n",
    "    \n",
    "    market = pandas.read_excel(\n",
    "        excel_file, header=4, skipfooter=1, \n",
    "        names=col_names, usecols='A:I').reset_index().drop(columns=['index'])\n",
    "    \n",
    "    return market"
   ]
  },
  {
   "cell_type": "markdown",
   "id": "7f0eb31a",
   "metadata": {},
   "source": [
    "<h3>重排資料表</h3>"
   ]
  },
  {
   "cell_type": "code",
   "execution_count": 6,
   "id": "29bce92d",
   "metadata": {},
   "outputs": [],
   "source": [
    "def adj_data(dataset):\n",
    "    new_date_list = []\n",
    "    dist_id_list = []\n",
    "    dist_name_list = []\n",
    "    product_id_list = []\n",
    "    product_name_list = []\n",
    "    product_type_list = []\n",
    "    \n",
    "    for i in range(dataset.shape[0]):\n",
    "        row = dataset.iloc[i]\n",
    "        \n",
    "        date_parts = row['日期'].split('/')\n",
    "        new_date = '%04d-%s' % (int(date_parts[0]) + 1911, '-'.join(date_parts[1:]))\n",
    "        new_date_list.append(new_date)\n",
    "        \n",
    "        dist_parts = row['市場'].split()\n",
    "        dist_id_list.append(dist_parts[0])\n",
    "        dist_name_list.append(dist_parts[1])\n",
    "        \n",
    "        product_parts = row['產品'].split()\n",
    "        if len(product_parts) == 2:\n",
    "            product_id_list.append(product_parts[0])\n",
    "            product_name_list.append(product_parts[1])\n",
    "            product_type_list.append('')\n",
    "        else:    \n",
    "            product_id_list.append(product_parts[0])\n",
    "            product_name_list.append(product_parts[1])\n",
    "            product_type_list.append(product_parts[2])\n",
    "        \n",
    "    dataset['日期'] = new_date_list\n",
    "    dataset['市場'] = dist_id_list\n",
    "    dataset['地區'] = dist_name_list\n",
    "    dataset['產品'] = product_id_list\n",
    "    dataset['名稱'] = product_name_list\n",
    "    dataset['品名'] = product_type_list\n",
    "    \n",
    "    return dataset[['市場', '日期', '產品', '上價', '中價', '下價', '均價', '地區', '名稱', '品名', '交易量']]"
   ]
  },
  {
   "cell_type": "markdown",
   "id": "1c6fe740",
   "metadata": {},
   "source": [
    "<h3>輸出資料CSV</h3>"
   ]
  },
  {
   "cell_type": "code",
   "execution_count": 8,
   "id": "3fcf1b23",
   "metadata": {},
   "outputs": [],
   "source": [
    "data_path_2 = 'C:\\\\Users\\\\Jerry\\\\Desktop\\\\Thesis\\\\data\\\\Transformation'\n",
    "\n",
    "#for region_group in ['A', 'B', 'C']:\n",
    "for region_group in ['A']:\n",
    "    combined_dataset = None\n",
    "\n",
    "    for region_id in region[region_group]:\n",
    "        df = get_data(region_group, region_id)\n",
    "        if df is not None:\n",
    "            df2 = adj_data(df)\n",
    "            df2.to_csv('%s/%s/%s-%s.csv' % (data_path_2, region_group, market_categoty, region_id), index=False)"
   ]
  },
  {
   "cell_type": "markdown",
   "id": "e30c0ca1",
   "metadata": {},
   "source": [
    "<h3>首次-合併資料和輸出產品對照表</h3>"
   ]
  },
  {
   "cell_type": "code",
   "execution_count": 9,
   "id": "c4aaeb81",
   "metadata": {},
   "outputs": [],
   "source": [
    "data_path_3 = 'C:\\\\Users\\\\Jerry\\\\Desktop\\\\Thesis\\\\data\\\\Dataset'\n",
    "\n",
    "#for region_group in ['A', 'B', 'C']:\n",
    "for region_group in ['A']:\n",
    "    combined_dataset = None\n",
    "    \n",
    "    for region_id in region[region_group]:\n",
    "        csv_file = '%s/%s/%s-%s.csv' % (data_path_2, region_group, market_categoty, region_id)\n",
    "        if not os.path.exists(csv_file):\n",
    "            print(csv_file)\n",
    "            continue\n",
    "            \n",
    "        df = pandas.read_csv(csv_file, header=0)\n",
    "        \n",
    "        df_data = df[['市場', '日期', '產品', '上價', '中價', '下價', '均價', '交易量']].copy()\n",
    "        df_data.to_csv('%s/%s/%s-%s-2.csv' % (data_path_3, region_group, market_categoty, region_id), index=False)\n",
    "\n",
    "        if combined_dataset is None:\n",
    "            combined_dataset = df\n",
    "        else:\n",
    "            combined_dataset = pandas.concat([combined_dataset, df], axis=0)\n",
    "            \n",
    "    df_data = combined_dataset[['市場', '日期', '產品', '上價', '中價', '下價', '均價', '交易量']].copy()\n",
    "    df_data.to_csv('%s/%s/%s-DS.csv' % (data_path_3, region_group, market_categoty), index=False)\n",
    "    \n",
    "    df_data = combined_dataset[['產品', '名稱','品名']].drop_duplicates()\n",
    "    df_data.to_csv('%s/%s/產品名稱對照表.csv' % (data_path_3, region_group), index=False)   "
   ]
  },
  {
   "cell_type": "markdown",
   "id": "a325d22b",
   "metadata": {},
   "source": [
    "<h3>累加-新的資訊進去原有資料集</h3>"
   ]
  },
  {
   "cell_type": "code",
   "execution_count": null,
   "id": "fd29cbe8",
   "metadata": {},
   "outputs": [],
   "source": [
    "data_path_3 = 'C:\\\\Users\\\\Jerry\\\\Desktop\\\\Thesis\\\\data\\\\Dataset'\n",
    "\n",
    "#for region_group in ['A', 'B', 'C']:\n",
    "for region_group in ['A']:\n",
    "    combined_dataset = None\n",
    "\n",
    "    for region_id in region[region_group]:\n",
    "        df = get_data(region_group, region_id).dropna()\n",
    "        if df is not None:\n",
    "            df2 = adj_data(df)\n",
    "            if combined_dataset is None:\n",
    "                combined_dataset = df2\n",
    "            else:\n",
    "                combined_dataset = pandas.concat([combined_dataset, df2], axis=0)            \n",
    "            \n",
    "    df_data = combined_dataset[['市場', '日期', '產品', '上價', '中價', '下價', '均價', '交易量']].copy()\n",
    "    dataset = pandas.read_csv('%s/%s/%s-DS.csv' % (data_path_3, region_group, market_categoty), header=0)\n",
    "    DS_update = pandas.concat([dataset, df_data], axis=0).drop_duplicates()\n",
    "    DS_update.to_csv('%s/%s/%s-DS_updated.csv' % (data_path_3, region_group, market_categoty), index=False)\n",
    "    \n",
    "    df_data_1 = combined_dataset[['產品', '名稱','品名']].copy()\n",
    "    dataset_1 = pandas.read_csv('%s/%s/產品名稱對照表.csv' % (data_path_3, region_group), header=0).fillna('')\n",
    "    DS_update_1 = pandas.concat([dataset_1, df_data_1], axis=0).drop_duplicates()\n",
    "    DS_update_1.to_csv('%s/%s/產品名稱對照表_updated.csv' % (data_path_3, region_group), index=False) "
   ]
  }
 ],
 "metadata": {
  "kernelspec": {
   "display_name": "Python 3 (ipykernel)",
   "language": "python",
   "name": "python3"
  },
  "language_info": {
   "codemirror_mode": {
    "name": "ipython",
    "version": 3
   },
   "file_extension": ".py",
   "mimetype": "text/x-python",
   "name": "python",
   "nbconvert_exporter": "python",
   "pygments_lexer": "ipython3",
   "version": "3.9.18"
  }
 },
 "nbformat": 4,
 "nbformat_minor": 5
}
